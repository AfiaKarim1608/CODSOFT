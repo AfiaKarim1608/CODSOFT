{
 "cells": [
  {
   "cell_type": "code",
   "execution_count": 35,
   "id": "dd07e78d-2093-408e-838b-3b54ff59ece4",
   "metadata": {},
   "outputs": [],
   "source": [
    "import pandas as pd\n",
    "import numpy as np"
   ]
  },
  {
   "cell_type": "code",
   "execution_count": 7,
   "id": "17a9b042-b9a1-4349-82a9-a67f430bb334",
   "metadata": {},
   "outputs": [],
   "source": [
    "train_data=pd.read_csv(\"train_data.csv\", sep=':::', names=[\"title\", \"genre\", \"description\"], engine='python')\n",
    "test_data=pd.read_csv(\"test_data.csv\", sep=':::', names=[\"title\", \"description\"], engine='python')"
   ]
  },
  {
   "cell_type": "code",
   "execution_count": 8,
   "id": "68681fc8-463e-48e5-aa8f-b73ef20e93fe",
   "metadata": {},
   "outputs": [
    {
     "data": {
      "text/html": [
       "<div>\n",
       "<style scoped>\n",
       "    .dataframe tbody tr th:only-of-type {\n",
       "        vertical-align: middle;\n",
       "    }\n",
       "\n",
       "    .dataframe tbody tr th {\n",
       "        vertical-align: top;\n",
       "    }\n",
       "\n",
       "    .dataframe thead th {\n",
       "        text-align: right;\n",
       "    }\n",
       "</style>\n",
       "<table border=\"1\" class=\"dataframe\">\n",
       "  <thead>\n",
       "    <tr style=\"text-align: right;\">\n",
       "      <th></th>\n",
       "      <th>title</th>\n",
       "      <th>genre</th>\n",
       "      <th>description</th>\n",
       "    </tr>\n",
       "  </thead>\n",
       "  <tbody>\n",
       "    <tr>\n",
       "      <th>1</th>\n",
       "      <td>Oscar et la dame rose (2009)</td>\n",
       "      <td>drama</td>\n",
       "      <td>Listening in to a conversation between his do...</td>\n",
       "    </tr>\n",
       "    <tr>\n",
       "      <th>2</th>\n",
       "      <td>Cupid (1997)</td>\n",
       "      <td>thriller</td>\n",
       "      <td>A brother and sister with a past incestuous r...</td>\n",
       "    </tr>\n",
       "    <tr>\n",
       "      <th>3</th>\n",
       "      <td>Young, Wild and Wonderful (1980)</td>\n",
       "      <td>adult</td>\n",
       "      <td>As the bus empties the students for their fie...</td>\n",
       "    </tr>\n",
       "    <tr>\n",
       "      <th>4</th>\n",
       "      <td>The Secret Sin (1915)</td>\n",
       "      <td>drama</td>\n",
       "      <td>To help their unemployed father make ends mee...</td>\n",
       "    </tr>\n",
       "    <tr>\n",
       "      <th>5</th>\n",
       "      <td>The Unrecovered (2007)</td>\n",
       "      <td>drama</td>\n",
       "      <td>The film's title refers not only to the un-re...</td>\n",
       "    </tr>\n",
       "  </tbody>\n",
       "</table>\n",
       "</div>"
      ],
      "text/plain": [
       "                                title       genre  \\\n",
       "1       Oscar et la dame rose (2009)       drama    \n",
       "2                       Cupid (1997)    thriller    \n",
       "3   Young, Wild and Wonderful (1980)       adult    \n",
       "4              The Secret Sin (1915)       drama    \n",
       "5             The Unrecovered (2007)       drama    \n",
       "\n",
       "                                         description  \n",
       "1   Listening in to a conversation between his do...  \n",
       "2   A brother and sister with a past incestuous r...  \n",
       "3   As the bus empties the students for their fie...  \n",
       "4   To help their unemployed father make ends mee...  \n",
       "5   The film's title refers not only to the un-re...  "
      ]
     },
     "execution_count": 8,
     "metadata": {},
     "output_type": "execute_result"
    }
   ],
   "source": [
    "train_data.head()\n"
   ]
  },
  {
   "cell_type": "code",
   "execution_count": 10,
   "id": "65723174-6822-4783-9e0f-18b9e9ca2573",
   "metadata": {},
   "outputs": [
    {
     "data": {
      "text/html": [
       "<div>\n",
       "<style scoped>\n",
       "    .dataframe tbody tr th:only-of-type {\n",
       "        vertical-align: middle;\n",
       "    }\n",
       "\n",
       "    .dataframe tbody tr th {\n",
       "        vertical-align: top;\n",
       "    }\n",
       "\n",
       "    .dataframe thead th {\n",
       "        text-align: right;\n",
       "    }\n",
       "</style>\n",
       "<table border=\"1\" class=\"dataframe\">\n",
       "  <thead>\n",
       "    <tr style=\"text-align: right;\">\n",
       "      <th></th>\n",
       "      <th>title</th>\n",
       "      <th>description</th>\n",
       "    </tr>\n",
       "  </thead>\n",
       "  <tbody>\n",
       "    <tr>\n",
       "      <th>1</th>\n",
       "      <td>Edgar's Lunch (1998)</td>\n",
       "      <td>L.R. Brane loves his life - his car, his apar...</td>\n",
       "    </tr>\n",
       "    <tr>\n",
       "      <th>2</th>\n",
       "      <td>La guerra de papá (1977)</td>\n",
       "      <td>Spain, March 1964: Quico is a very naughty ch...</td>\n",
       "    </tr>\n",
       "    <tr>\n",
       "      <th>3</th>\n",
       "      <td>Off the Beaten Track (2010)</td>\n",
       "      <td>One year in the life of Albin and his family ...</td>\n",
       "    </tr>\n",
       "    <tr>\n",
       "      <th>4</th>\n",
       "      <td>Meu Amigo Hindu (2015)</td>\n",
       "      <td>His father has died, he hasn't spoken with hi...</td>\n",
       "    </tr>\n",
       "    <tr>\n",
       "      <th>5</th>\n",
       "      <td>Er nu zhai (1955)</td>\n",
       "      <td>Before he was known internationally as a mart...</td>\n",
       "    </tr>\n",
       "  </tbody>\n",
       "</table>\n",
       "</div>"
      ],
      "text/plain": [
       "                           title  \\\n",
       "1          Edgar's Lunch (1998)    \n",
       "2      La guerra de papá (1977)    \n",
       "3   Off the Beaten Track (2010)    \n",
       "4        Meu Amigo Hindu (2015)    \n",
       "5             Er nu zhai (1955)    \n",
       "\n",
       "                                         description  \n",
       "1   L.R. Brane loves his life - his car, his apar...  \n",
       "2   Spain, March 1964: Quico is a very naughty ch...  \n",
       "3   One year in the life of Albin and his family ...  \n",
       "4   His father has died, he hasn't spoken with hi...  \n",
       "5   Before he was known internationally as a mart...  "
      ]
     },
     "execution_count": 10,
     "metadata": {},
     "output_type": "execute_result"
    }
   ],
   "source": [
    "test_data.head()\n"
   ]
  },
  {
   "cell_type": "code",
   "execution_count": 18,
   "id": "e8f52864-c24a-47d1-92df-bf489d660e8c",
   "metadata": {},
   "outputs": [
    {
     "name": "stderr",
     "output_type": "stream",
     "text": [
      "C:\\Users\\User\\AppData\\Local\\Temp\\ipykernel_15468\\3583499827.py:3: FutureWarning: \n",
      "\n",
      "Passing `palette` without assigning `hue` is deprecated and will be removed in v0.14.0. Assign the `x` variable to `hue` and set `legend=False` for the same effect.\n",
      "\n",
      "  sns.barplot(x=counts.index, y=counts, palette=\"pastel\")\n"
     ]
    },
    {
     "data": {
      "image/png": "[encoded data removed]",
      "text/plain": [
       "<Figure size 1000x500 with 1 Axes>"
      ]
     },
     "metadata": {},
     "output_type": "display_data"
    }
   ],
   "source": [
    "plt.figure(figsize=(10,5))\n",
    "counts = train_data.genre.value_counts()\n",
    "sns.barplot(x=counts.index, y=counts, palette=\"pastel\")\n",
    "plt.xlabel('Genre')\n",
    "plt.ylabel('Count')\n",
    "plt.xticks(rotation=90);"
   ]
  },
  {
   "cell_type": "code",
   "execution_count": 19,
   "id": "5dce606b-b582-4ff5-8707-4f976d23ab2c",
   "metadata": {},
   "outputs": [
    {
     "data": {
      "text/plain": [
       "genre\n",
       "drama           13613\n",
       "documentary     13096\n",
       "comedy           7447\n",
       "short            5073\n",
       "horror           2204\n",
       "thriller         1591\n",
       "action           1315\n",
       "western          1032\n",
       "reality-tv        884\n",
       "family            784\n",
       "adventure         775\n",
       "music             731\n",
       "romance           672\n",
       "sci-fi            647\n",
       "adult             590\n",
       "crime             505\n",
       "animation         498\n",
       "sport             432\n",
       "talk-show         391\n",
       "fantasy           323\n",
       "mystery           319\n",
       "musical           277\n",
       "biography         265\n",
       "history           243\n",
       "game-show         194\n",
       "news              181\n",
       "war               132\n",
       "Name: count, dtype: int64"
      ]
     },
     "execution_count": 19,
     "metadata": {},
     "output_type": "execute_result"
    }
   ],
   "source": [
    "train_data.genre.value_counts()"
   ]
  },
  {
   "cell_type": "markdown",
   "id": "3c3fb882-d00f-4f1e-907a-a4f2a0032286",
   "metadata": {},
   "source": [
    "#DATA CLEANING"
   ]
  },
  {
   "cell_type": "code",
   "execution_count": 20,
   "id": "c61a44c3-62ac-44e5-ba55-e2e688066968",
   "metadata": {},
   "outputs": [
    {
     "name": "stdout",
     "output_type": "stream",
     "text": [
      "<class 'pandas.core.frame.DataFrame'>\n",
      "Index: 54214 entries, 1 to 54214\n",
      "Data columns (total 3 columns):\n",
      " #   Column       Non-Null Count  Dtype \n",
      "---  ------       --------------  ----- \n",
      " 0   title        54214 non-null  object\n",
      " 1   genre        54214 non-null  object\n",
      " 2   description  54214 non-null  object\n",
      "dtypes: object(3)\n",
      "memory usage: 1.7+ MB\n"
     ]
    }
   ],
   "source": [
    "train_data.info()"
   ]
  },
  {
   "cell_type": "code",
   "execution_count": 21,
   "id": "adb7c3e7-d626-45d6-8427-b08e571f6740",
   "metadata": {},
   "outputs": [
    {
     "name": "stdout",
     "output_type": "stream",
     "text": [
      "Before dropping duplicates:  (54214, 3)\n",
      "After dropping duplicates:  (54214, 3)\n"
     ]
    }
   ],
   "source": [
    "print(\"Before dropping duplicates: \",train_data.shape)\n",
    "train_data = train_data.drop_duplicates()\n",
    "print(\"After dropping duplicates: \",train_data.shape)"
   ]
  },
  {
   "cell_type": "code",
   "execution_count": null,
   "id": "a03a41f0-d0e8-49de-8f01-e0c0c25014ba",
   "metadata": {},
   "outputs": [],
   "source": [
    "CLEANING TEXTS IN THE DATASET"
   ]
  },
  {
   "cell_type": "code",
   "execution_count": 24,
   "id": "6125fa59-e5cb-4927-98fd-589f5b0ef62b",
   "metadata": {},
   "outputs": [],
   "source": [
    "import re\n",
    "import string\n",
    "from nltk.corpus import stopwords\n",
    "from nltk.tokenize import word_tokenize\n",
    "stop_words = set(stopwords.words('english'))\n",
    "def clean_data(text):\n",
    "    text = text.lower()\n",
    "    text = re.sub(r'(@\\S+|http\\S+|[\\w\\.-]+@[\\w\\.-]+|pic.\\S+|#|_)', '', text)  \n",
    "    text = re.sub(r\"[^a-zA-Z+']\", ' ', text) \n",
    "    text = re.sub(r'\\s+[a-zA-Z]\\s+', ' ', text + ' ')  \n",
    "    text = re.sub(r'\\[[^]]*\\]|\\n', ' ', text)  \n",
    "    text = \"\".join([c for c in text if c not in string.punctuation]) \n",
    "    text = re.sub(r\"\\s+\", \" \", text).strip()  \n",
    "    return \" \".join([word for word in word_tokenize(text) if word not in stop_words and len(word) > 2])  \n"
   ]
  },
  {
   "cell_type": "markdown",
   "id": "1fd1e605-740a-4afb-a2b5-b77ce20619bb",
   "metadata": {},
   "source": [
    "DATA STATISTICS"
   ]
  },
  {
   "cell_type": "code",
   "execution_count": 6,
   "id": "5bd93abb-6fc0-4499-8278-8b6a115c725c",
   "metadata": {},
   "outputs": [
    {
     "name": "stdout",
     "output_type": "stream",
     "text": [
      "Index(['title', 'genre', 'description'], dtype='object')\n",
      "Index(['title', 'description'], dtype='object')\n"
     ]
    }
   ],
   "source": [
    "import pandas as pd\n",
    "train_data=pd.read_csv(\"train_data.csv\", sep=':::', names=[\"title\", \"genre\", \"description\"], engine='python')\n",
    "test_data=pd.read_csv(\"test_data.csv\", sep=':::', names=[\"title\", \"description\"], engine='python')\n",
    "print(train_data.columns)\n",
    "print(test_data.columns)"
   ]
  },
  {
   "cell_type": "code",
   "execution_count": 10,
   "id": "1158e977-c90c-4afa-b85c-5e7067bc9e06",
   "metadata": {},
   "outputs": [
    {
     "name": "stdout",
     "output_type": "stream",
     "text": [
      "Index(['title', 'genre', 'description', 'length'], dtype='object')\n"
     ]
    }
   ],
   "source": [
    "print(train_data.columns)  # See available columns\n"
   ]
  },
  {
   "cell_type": "code",
   "execution_count": 12,
   "id": "3a220f17-369a-4bab-a248-554557d660f4",
   "metadata": {},
   "outputs": [
    {
     "name": "stdout",
     "output_type": "stream",
     "text": [
      "                                title       genre  \\\n",
      "1       Oscar et la dame rose (2009)       drama    \n",
      "2                       Cupid (1997)    thriller    \n",
      "3   Young, Wild and Wonderful (1980)       adult    \n",
      "4              The Secret Sin (1915)       drama    \n",
      "5             The Unrecovered (2007)       drama    \n",
      "\n",
      "                                         description  length  \n",
      "1   Listening in to a conversation between his do...     546  \n",
      "2   A brother and sister with a past incestuous r...     184  \n",
      "3   As the bus empties the students for their fie...     650  \n",
      "4   To help their unemployed father make ends mee...    1082  \n",
      "5   The film's title refers not only to the un-re...     625  \n"
     ]
    }
   ],
   "source": [
    "print(train_data.head())  # Ensure the column exists\n"
   ]
  },
  {
   "cell_type": "code",
   "execution_count": 18,
   "id": "3a5942f0-fb6c-4018-baca-e55db7d20e5c",
   "metadata": {},
   "outputs": [
    {
     "data": {
      "image/png": "[encoded data removed]",
      "text/plain": [
       "<Figure size 1000x500 with 1 Axes>"
      ]
     },
     "metadata": {},
     "output_type": "display_data"
    }
   ],
   "source": [
    "import matplotlib.pyplot as plt\n",
    "import seaborn as sns\n",
    "plt.figure(figsize=(10, 5))\n",
    "sns.histplot(data=train_data, x='length', bins=20, kde=True, color='pink')\n",
    "plt.xlabel('Length', fontsize=12, fontweight='bold')\n",
    "plt.ylabel('Frequency', fontsize=12, fontweight='bold')\n",
    "plt.title('Distribution of Lengths', fontsize=20, fontweight='bold')\n",
    "plt.show()"
   ]
  },
  {
   "cell_type": "markdown",
   "id": "066c9c6a-0119-4945-b12c-9a5508129a8f",
   "metadata": {},
   "source": [
    "CLEANING TEXTS IN THE DATASET"
   ]
  },
  {
   "cell_type": "code",
   "execution_count": 27,
   "id": "ed75ba99-546e-4979-a912-e480d0936bf5",
   "metadata": {},
   "outputs": [],
   "source": [
    "import re\n",
    "import string\n",
    "from nltk.corpus import stopwords\n",
    "from nltk.tokenize import word_tokenize\n",
    "stop_words = set(stopwords.words('english'))\n",
    "def clean_data(text):\n",
    "    text = text.lower()\n",
    "    text = re.sub(r'(@\\S+|http\\S+|[\\w\\.-]+@[\\w\\.-]+|pic.\\S+|#|_)', '', text)  \n",
    "    text = re.sub(r\"[^a-zA-Z+']\", ' ', text) \n",
    "    text = re.sub(r'\\s+[a-zA-Z]\\s+', ' ', text + ' ')  \n",
    "    text = re.sub(r'\\[[^]]*\\]|\\n', ' ', text)  \n",
    "    text = \"\".join([c for c in text if c not in string.punctuation]) \n",
    "    text = re.sub(r\"\\s+\", \" \", text).strip()  \n",
    "    return \" \".join([word for word in word_tokenize(text) if word not in stop_words and len(word) > 2])  \n"
   ]
  },
  {
   "cell_type": "code",
   "execution_count": 29,
   "id": "a457af7a-af7c-442f-9619-14a0b48c3b8d",
   "metadata": {},
   "outputs": [
    {
     "name": "stderr",
     "output_type": "stream",
     "text": [
      "[nltk_data] Downloading package punkt to\n",
      "[nltk_data]     C:\\Users\\User\\AppData\\Roaming\\nltk_data...\n",
      "[nltk_data]   Unzipping tokenizers\\punkt.zip.\n",
      "[nltk_data] Downloading package stopwords to\n",
      "[nltk_data]     C:\\Users\\User\\AppData\\Roaming\\nltk_data...\n",
      "[nltk_data]   Unzipping corpora\\stopwords.zip.\n"
     ]
    }
   ],
   "source": [
    "import nltk\n",
    "nltk.download('punkt')\n",
    "nltk.download('stopwords')\n",
    "train_data['description_cleaned'] = train_data['description'].apply(clean_data)\n",
    "test_data['description_cleaned'] = test_data['description'].apply(clean_data)"
   ]
  },
  {
   "cell_type": "code",
   "execution_count": 33,
   "id": "cdb451d5-6f2c-47fa-8482-c9393cef632b",
   "metadata": {},
   "outputs": [
    {
     "name": "stdout",
     "output_type": "stream",
     "text": [
      "Index(['title', 'genre', 'description'], dtype='object')\n",
      "Index(['title', 'description'], dtype='object')\n"
     ]
    }
   ],
   "source": [
    "import pandas as pd\n",
    "train_data=pd.read_csv(\"train_data.csv\", sep=':::', names=[\"title\", \"genre\", \"description\"], engine='python')\n",
    "test_data=pd.read_csv(\"test_data.csv\", sep=':::', names=[\"title\", \"description\"], engine='python')\n",
    "print(train_data.columns)\n",
    "print(test_data.columns)"
   ]
  },
  {
   "cell_type": "code",
   "execution_count": 34,
   "id": "ceacd430-d8b0-4228-8ca6-e0d9002dc14c",
   "metadata": {},
   "outputs": [
    {
     "name": "stdout",
     "output_type": "stream",
     "text": [
      "Index(['title', 'genre', 'description'], dtype='object')\n"
     ]
    }
   ],
   "source": [
    "print(train_data.columns)"
   ]
  },
  {
   "cell_type": "code",
   "execution_count": 35,
   "id": "7573829a-9292-4bb3-b302-905e66f9aaf5",
   "metadata": {},
   "outputs": [
    {
     "name": "stdout",
     "output_type": "stream",
     "text": [
      "                                title       genre  \\\n",
      "1       Oscar et la dame rose (2009)       drama    \n",
      "2                       Cupid (1997)    thriller    \n",
      "3   Young, Wild and Wonderful (1980)       adult    \n",
      "4              The Secret Sin (1915)       drama    \n",
      "5             The Unrecovered (2007)       drama    \n",
      "\n",
      "                                         description  \n",
      "1   Listening in to a conversation between his do...  \n",
      "2   A brother and sister with a past incestuous r...  \n",
      "3   As the bus empties the students for their fie...  \n",
      "4   To help their unemployed father make ends mee...  \n",
      "5   The film's title refers not only to the un-re...  \n"
     ]
    }
   ],
   "source": [
    "print(train_data.head())"
   ]
  },
  {
   "cell_type": "code",
   "execution_count": 43,
   "id": "161e2b41-c2a2-47a7-b1f9-88cd326dc56c",
   "metadata": {},
   "outputs": [
    {
     "name": "stdout",
     "output_type": "stream",
     "text": [
      "Index(['title', 'genre', 'description'], dtype='object')\n"
     ]
    }
   ],
   "source": [
    "print(train_df.columns)  # List all columns\n"
   ]
  },
  {
   "cell_type": "code",
   "execution_count": 44,
   "id": "d7e82e76-447b-41b2-91d4-50c23e8199d0",
   "metadata": {},
   "outputs": [],
   "source": [
    "if 'description_cleaned' not in train_df.columns:\n",
    "    train_df['description_cleaned'] = train_df['description'].apply(clean_data)\n"
   ]
  },
  {
   "cell_type": "code",
   "execution_count": 45,
   "id": "5359d35f-581c-4344-bc31-038b9f9efb79",
   "metadata": {},
   "outputs": [
    {
     "name": "stdout",
     "output_type": "stream",
     "text": [
      "                                         description  \\\n",
      "1   Listening in to a conversation between his do...   \n",
      "2   A brother and sister with a past incestuous r...   \n",
      "3   As the bus empties the students for their fie...   \n",
      "4   To help their unemployed father make ends mee...   \n",
      "5   The film's title refers not only to the un-re...   \n",
      "\n",
      "                                 description_cleaned  \n",
      "1  listening conversation doctor parents year old...  \n",
      "2  brother sister past incestuous relationship cu...  \n",
      "3  bus empties students field trip museum natural...  \n",
      "4  help unemployed father make ends meet edith tw...  \n",
      "5  films title refers recovered bodies ground zer...  \n"
     ]
    }
   ],
   "source": [
    "print(train_df[['description', 'description_cleaned']].head())  \n"
   ]
  },
  {
   "cell_type": "code",
   "execution_count": 46,
   "id": "57288589-8d77-44b5-9832-1e43e58b7050",
   "metadata": {},
   "outputs": [],
   "source": [
    "train_set, val_set, train_label, val_label = train_test_split(\n",
    "    train_df['description_cleaned'], train_df['genre'], test_size=0.2, shuffle=True, random_state=42\n",
    ")\n"
   ]
  },
  {
   "cell_type": "markdown",
   "id": "cbdc4b0b-a49a-4a87-8e71-d916d81df099",
   "metadata": {},
   "source": [
    "FEATURE EXTRACTION"
   ]
  },
  {
   "cell_type": "code",
   "execution_count": 51,
   "id": "880f9fc5-e570-4e5b-8689-d3317175bc27",
   "metadata": {},
   "outputs": [],
   "source": [
    "from sklearn.feature_extraction.text import TfidfVectorizer\n",
    "vectorize = TfidfVectorizer(stop_words='english', max_features=100000)\n",
    "train_set_tfidf = vectorize.fit_transform(train_set)\n",
    "val_set_tfidf = vectorize.transform(val_set)"
   ]
  },
  {
   "cell_type": "code",
   "execution_count": 10,
   "id": "c39c47ac-7916-4a04-896d-8572d227d45e",
   "metadata": {},
   "outputs": [
    {
     "name": "stdout",
     "output_type": "stream",
     "text": [
      "Index(['title', 'genre', 'description'], dtype='object')\n"
     ]
    }
   ],
   "source": [
    "import pandas as pd\n",
    "train_data=pd.read_csv(\"train_data.csv\", sep=':::', names=[\"title\", \"genre\", \"description\"], engine='python') \n",
    "print(train_data.columns)  # Expected output: Index(['description', 'genre'], dtype='object')\n"
   ]
  },
  {
   "cell_type": "code",
   "execution_count": 8,
   "id": "879017b4-8716-4446-bd6c-ce125533040d",
   "metadata": {},
   "outputs": [
    {
     "name": "stdout",
     "output_type": "stream",
     "text": [
      "                                title       genre  \\\n",
      "1       Oscar et la dame rose (2009)       drama    \n",
      "2                       Cupid (1997)    thriller    \n",
      "3   Young, Wild and Wonderful (1980)       adult    \n",
      "4              The Secret Sin (1915)       drama    \n",
      "5             The Unrecovered (2007)       drama    \n",
      "\n",
      "                                         description  \\\n",
      "1   Listening in to a conversation between his do...   \n",
      "2   A brother and sister with a past incestuous r...   \n",
      "3   As the bus empties the students for their fie...   \n",
      "4   To help their unemployed father make ends mee...   \n",
      "5   The film's title refers not only to the un-re...   \n",
      "\n",
      "                                 description_cleaned  \n",
      "1  listening in to a conversation between his doc...  \n",
      "2  a brother and sister with a past incestuous re...  \n",
      "3  as the bus empties the students for their fiel...  \n",
      "4  to help their unemployed father make ends meet...  \n",
      "5  the film s title refers not only to the un rec...  \n"
     ]
    }
   ],
   "source": [
    "import re\n",
    "\n",
    "# Function to clean text data\n",
    "def clean_text(text):\n",
    "    if pd.isna(text):  # Handle missing values\n",
    "        return \"\"\n",
    "    text = text.lower()  # Convert to lowercase\n",
    "    text = re.sub(r'\\W', ' ', text)  # Remove non-word characters\n",
    "    text = re.sub(r'\\s+', ' ', text).strip()  # Remove extra spaces\n",
    "    return text\n",
    "\n",
    "# Apply cleaning function\n",
    "train_data[\"description_cleaned\"] = train_data[\"description\"].apply(clean_text)\n",
    "\n",
    "# Now check the updated DataFrame\n",
    "print(train_data.head())\n"
   ]
  },
  {
   "cell_type": "code",
   "execution_count": 9,
   "id": "92b846d7-b8a6-4ce3-988e-72e293acb0ca",
   "metadata": {},
   "outputs": [
    {
     "name": "stdout",
     "output_type": "stream",
     "text": [
      "Train set size: 43371, Validation set size: 10843\n"
     ]
    }
   ],
   "source": [
    "from sklearn.model_selection import train_test_split\n",
    "\n",
    "# Ensure 'description_cleaned' exists before proceeding\n",
    "if 'description_cleaned' not in train_data.columns or 'genre' not in train_data.columns:\n",
    "    raise KeyError(\"Columns 'description_cleaned' or 'genre' not found even after preprocessing!\")\n",
    "\n",
    "# Split dataset\n",
    "train_set, val_set, train_label, val_label = train_test_split(\n",
    "    train_data['description_cleaned'], train_data['genre'], test_size=0.2, shuffle=True, random_state=42\n",
    ")\n",
    "\n",
    "print(f\"Train set size: {len(train_set)}, Validation set size: {len(val_set)}\")\n"
   ]
  },
  {
   "cell_type": "code",
   "execution_count": 11,
   "id": "fd0f3960-a6ce-4f0b-96e3-558c9a970ed7",
   "metadata": {},
   "outputs": [
    {
     "name": "stdout",
     "output_type": "stream",
     "text": [
      "<class 'pandas.core.series.Series'>\n",
      "19254    sex betrayal seduction manipulation addiction ...\n",
      "12262    autistic teen tony and his friendship with cam...\n",
      "37144    the one hour special examines this socially et...\n",
      "21966    this personal narrative documentary uses my bi...\n",
      "7034     the easy going village policeman artturi sakar...\n",
      "Name: description_cleaned, dtype: object\n"
     ]
    }
   ],
   "source": [
    "print(type(train_set))  # Should be a pandas Series or list\n",
    "print(train_set.head())  # Check first few rows\n"
   ]
  },
  {
   "cell_type": "code",
   "execution_count": 13,
   "id": "ee9c65ed-a0b6-4073-8f65-87a59bb16008",
   "metadata": {},
   "outputs": [
    {
     "name": "stdout",
     "output_type": "stream",
     "text": [
      "TF-IDF train set shape: (43371, 107137)\n",
      "TF-IDF validation set shape: (10843, 107137)\n"
     ]
    }
   ],
   "source": [
    "from sklearn.feature_extraction.text import TfidfVectorizer\n",
    "\n",
    "# Initialize TF-IDF vectorizer\n",
    "vectorizer = TfidfVectorizer()\n",
    "\n",
    "# Convert text into numerical features\n",
    "train_set_tfidf = vectorizer.fit_transform(train_set)  \n",
    "val_set_tfidf = vectorizer.transform(val_set)  \n",
    "\n",
    "print(\"TF-IDF train set shape:\", train_set_tfidf.shape)\n",
    "print(\"TF-IDF validation set shape:\", val_set_tfidf.shape)\n"
   ]
  },
  {
   "cell_type": "code",
   "execution_count": 30,
   "id": "b2b62706-5861-4875-bcee-bd57c519b057",
   "metadata": {},
   "outputs": [
    {
     "data": {
      "text/html": [
       "<div>\n",
       "<style scoped>\n",
       "    .dataframe tbody tr th:only-of-type {\n",
       "        vertical-align: middle;\n",
       "    }\n",
       "\n",
       "    .dataframe tbody tr th {\n",
       "        vertical-align: top;\n",
       "    }\n",
       "\n",
       "    .dataframe thead th {\n",
       "        text-align: right;\n",
       "    }\n",
       "</style>\n",
       "<table border=\"1\" class=\"dataframe\">\n",
       "  <thead>\n",
       "    <tr style=\"text-align: right;\">\n",
       "      <th></th>\n",
       "      <th>Algorithm</th>\n",
       "      <th>Accuracy</th>\n",
       "    </tr>\n",
       "  </thead>\n",
       "  <tbody>\n",
       "    <tr>\n",
       "      <th>0</th>\n",
       "      <td>LogisticRegression</td>\n",
       "      <td>0.5</td>\n",
       "    </tr>\n",
       "    <tr>\n",
       "      <th>1</th>\n",
       "      <td>NaiveBayes</td>\n",
       "      <td>0.5</td>\n",
       "    </tr>\n",
       "    <tr>\n",
       "      <th>2</th>\n",
       "      <td>SupportVector Machine</td>\n",
       "      <td>0.0</td>\n",
       "    </tr>\n",
       "  </tbody>\n",
       "</table>\n",
       "</div>"
      ],
      "text/plain": [
       "               Algorithm  Accuracy\n",
       "0     LogisticRegression       0.5\n",
       "1             NaiveBayes       0.5\n",
       "2  SupportVector Machine       0.0"
      ]
     },
     "execution_count": 30,
     "metadata": {},
     "output_type": "execute_result"
    }
   ],
   "source": [
    "import matplotlib.pyplot as plt  # Import matplotlib\n",
    "import pandas as pd\n",
    "from sklearn.naive_bayes import MultinomialNB\n",
    "from sklearn.svm import SVC\n",
    "from sklearn.linear_model import LogisticRegression\n",
    "from sklearn.metrics import accuracy_score\n",
    "\n",
    "#Logistic Regression Model\n",
    "LR_model = LogisticRegression()\n",
    "LR_model.fit(train_set_tfidf, train_label)\n",
    "predict_LR = LR_model.predict(val_set_tfidf)\n",
    "LR_accuracy = accuracy_score(val_label, predict_LR)\n",
    "\n",
    "#Naive Bayes Model\n",
    "NB_model = MultinomialNB()\n",
    "NB_model.fit(train_set_tfidf, train_label)\n",
    "predict_NB = NB_model.predict(val_set_tfidf)\n",
    "naive_accuracy = accuracy_score(val_label, predict_NB)\n",
    "\n",
    "#Support Vector Classifier (SVC) Model\n",
    "SVM_model = SVC()\n",
    "SVM_model.fit(train_set_tfidf, train_label)\n",
    "predict_SVM = SVM_model.predict(val_set_tfidf)\n",
    "svm_accuracy = accuracy_score(val_label, predict_SVM)\n",
    "\n",
    "columns=['LogisticRegression', 'NaiveBayes', 'SupportVector Machine']\n",
    "accuracy= [LR_accuracy, naive_accuracy, svm_accuracy]\n",
    "\n",
    "FinalResult=pd.DataFrame({'Algorithm':columns, 'Accuracy':accuracy})\n",
    "\n",
    "FinalResult\n",
    "\n"
   ]
  },
  {
   "cell_type": "code",
   "execution_count": 32,
   "id": "d0ef164d-c808-4fe6-8028-6e6ec212e5c4",
   "metadata": {},
   "outputs": [
    {
     "data": {
      "image/png": "[encoded data removed]",
      "text/plain": [
       "<Figure size 1000x500 with 1 Axes>"
      ]
     },
     "metadata": {},
     "output_type": "display_data"
    }
   ],
   "source": [
    "import matplotlib.pyplot as plt\n",
    "fig,ax=plt.subplots(figsize=(10,5))\n",
    "plt.plot(FinalResult.Algorithm,accuracy,label=\"Accuracy\", color=\"pink\")\n",
    "plt.legend()\n",
    "plt.show()"
   ]
  },
  {
   "cell_type": "code",
   "execution_count": null,
   "id": "b9fe15c4-ea43-4413-8cdd-80933cf702d4",
   "metadata": {},
   "outputs": [],
   "source": []
  }
 ],
 "metadata": {
  "kernelspec": {
   "display_name": "Python 3 (ipykernel)",
   "language": "python",
   "name": "python3"
  },
  "language_info": {
   "codemirror_mode": {
    "name": "ipython",
    "version": 3
   },
   "file_extension": ".py",
   "mimetype": "text/x-python",
   "name": "python",
   "nbconvert_exporter": "python",
   "pygments_lexer": "ipython3",
   "version": "3.12.4"
  }
 },
 "nbformat": 4,
 "nbformat_minor": 5
}
